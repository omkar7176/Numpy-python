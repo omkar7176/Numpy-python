{
 "cells": [
  {
   "cell_type": "markdown",
   "id": "98da5afe",
   "metadata": {},
   "source": [
    "## Numpy array and basics\n",
    "learn about numpy with chai aur code"
   ]
  },
  {
   "cell_type": "code",
   "execution_count": 1,
   "id": "08e89a7b",
   "metadata": {},
   "outputs": [],
   "source": [
    "import numpy as np"
   ]
  },
  {
   "cell_type": "markdown",
   "id": "d179db3d",
   "metadata": {},
   "source": [
    "### Creating array from list"
   ]
  },
  {
   "cell_type": "code",
   "execution_count": 3,
   "id": "0f423766",
   "metadata": {},
   "outputs": [
    {
     "name": "stdout",
     "output_type": "stream",
     "text": [
      "1D array:  [1 2 3 4 5 6]\n",
      "2D array:  [[1 2 3]\n",
      " [4 5 6]]\n"
     ]
    }
   ],
   "source": [
    "arr_1 = np.array([1,2,3,4,5,6])\n",
    "print(\"1D array: \", arr_1)\n",
    "\n",
    "arr_2 = np.array([[1,2,3], [4,5,6]])\n",
    "print(\"2D array: \", arr_2)"
   ]
  },
  {
   "cell_type": "markdown",
   "id": "0bcd221d",
   "metadata": {},
   "source": [
    "### List vs numpy array"
   ]
  },
  {
   "cell_type": "code",
   "execution_count": 6,
   "id": "35403c85",
   "metadata": {},
   "outputs": [
    {
     "name": "stdout",
     "output_type": "stream",
     "text": [
      "Python list multiplication:  [1, 2, 3, 1, 2, 3]\n",
      "Python array multiplication:  [2 4 6]\n"
     ]
    }
   ],
   "source": [
    "py_list = [1,2,3]\n",
    "print(\"Python list multiplication: \", py_list * 2)\n",
    "\n",
    "np_array = np.array([1, 2, 3]) #element wise multiplication\n",
    "print(\"Python array multiplication: \", np_array * 2)"
   ]
  },
  {
   "cell_type": "markdown",
   "id": "e24dde96",
   "metadata": {},
   "source": [
    "### creating array from scratch"
   ]
  },
  {
   "cell_type": "code",
   "execution_count": null,
   "id": "d9b505c0",
   "metadata": {},
   "outputs": [
    {
     "name": "stdout",
     "output_type": "stream",
     "text": [
      "zeros array: \n",
      " [[0. 0. 0. 0.]\n",
      " [0. 0. 0. 0.]\n",
      " [0. 0. 0. 0.]]\n",
      "one array: \n",
      " [[1. 1. 1.]\n",
      " [1. 1. 1.]]\n",
      "full array: \n",
      " [[7 7]\n",
      " [7 7]]\n",
      "random array: \n",
      " [[0.88817915 0.71988   ]\n",
      " [0.93071467 0.0272762 ]]\n",
      "Sequence array: \n",
      " [ 0  2  4  6  8 10]\n"
     ]
    }
   ],
   "source": [
    "zeros = np.zeros((3, 4))\n",
    "print(\"zeros array: \\n\", zeros)\n",
    "\n",
    "ones = np.ones((2, 3))\n",
    "print(\"one array: \\n\", ones)\n",
    "\n",
    "full = np.full((2, 2), 7)\n",
    "print(\"full array: \\n\", full)\n",
    "\n",
    "random = np.random.random((2, 2))\n",
    "print(\"random array: \\n\", random)\n",
    "\n",
    "seq = np.arange(0,11, 2)\n",
    "print(\"Sequence array: \\n\", seq)\n"
   ]
  },
  {
   "cell_type": "markdown",
   "id": "4da7b0ec",
   "metadata": {},
   "source": [
    "### Vector and Matrix"
   ]
  },
  {
   "cell_type": "code",
   "execution_count": 29,
   "id": "ffb418b5",
   "metadata": {},
   "outputs": [
    {
     "name": "stdout",
     "output_type": "stream",
     "text": [
      "Vector:  [1 2 3]\n",
      "Matrix: \n",
      " [[1 2 3]\n",
      " [4 5 6]\n",
      " [7 8 9]]\n"
     ]
    }
   ],
   "source": [
    "vector = np.array([1, 2, 3])\n",
    "print(\"Vector: \", vector)\n",
    "\n",
    "# matix is 2D array\n",
    "matrix = np.array([[1,2,3], \n",
    "                   [4,5,6],\n",
    "                   [7,8,9]])\n",
    "print(\"Matrix: \\n\", matrix)"
   ]
  },
  {
   "cell_type": "markdown",
   "id": "1fb647ba",
   "metadata": {},
   "source": [
    "### Array properties"
   ]
  },
  {
   "cell_type": "code",
   "execution_count": 30,
   "id": "8b1c88c4",
   "metadata": {},
   "outputs": [
    {
     "name": "stdout",
     "output_type": "stream",
     "text": [
      "Shape (2, 3)\n",
      "Dimension 2\n",
      "Size 6\n",
      "DType int64\n"
     ]
    }
   ],
   "source": [
    "arr = np.array([[1,2,3],\n",
    "                [4,5,6]])\n",
    "print(\"Shape\", arr.shape)\n",
    "print(\"Dimension\", arr.ndim)\n",
    "print(\"Size\", arr.size)\n",
    "print(\"DType\", arr.dtype)"
   ]
  },
  {
   "cell_type": "markdown",
   "id": "45c976c9",
   "metadata": {},
   "source": [
    "### Array Reshaping"
   ]
  },
  {
   "cell_type": "code",
   "execution_count": 32,
   "id": "192ff10a",
   "metadata": {},
   "outputs": [
    {
     "name": "stdout",
     "output_type": "stream",
     "text": [
      "Original array:  [ 0  1  2  3  4  5  6  7  8  9 10 11]\n"
     ]
    }
   ],
   "source": [
    "arr = np.arange(12)\n",
    "print(\"Original array: \", arr)"
   ]
  }
 ],
 "metadata": {
  "kernelspec": {
   "display_name": "venv",
   "language": "python",
   "name": "python3"
  },
  "language_info": {
   "codemirror_mode": {
    "name": "ipython",
    "version": 3
   },
   "file_extension": ".py",
   "mimetype": "text/x-python",
   "name": "python",
   "nbconvert_exporter": "python",
   "pygments_lexer": "ipython3",
   "version": "3.12.1"
  }
 },
 "nbformat": 4,
 "nbformat_minor": 5
}
