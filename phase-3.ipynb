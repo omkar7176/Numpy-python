{
 "cells": [
  {
   "cell_type": "markdown",
   "id": "ed719dd9",
   "metadata": {},
   "source": [
    "# Advance operation with business examples"
   ]
  },
  {
   "cell_type": "code",
   "execution_count": 12,
   "id": "6419a4dc",
   "metadata": {},
   "outputs": [],
   "source": [
    "import numpy as np\n",
    "import matplotlib.pyplot as plt"
   ]
  },
  {
   "cell_type": "code",
   "execution_count": 32,
   "id": "b10b0cc5",
   "metadata": {},
   "outputs": [
    {
     "name": "stdout",
     "output_type": "stream",
     "text": [
      "=== Zomato sales analysis ===\n",
      "\n",
      " Sales data shape (5, 5)\n",
      "\n",
      " Sample data for 1st 3 restaurant \n",
      " [[     1 260000 160000 210000 150000]\n",
      " [     2 270000 170000 220000 120000]\n",
      " [     3 280000 180000 230000 130000]]\n",
      "\n",
      " Remove the 1st column \n",
      " [[260000 160000 210000 150000]\n",
      " [270000 170000 220000 120000]\n",
      " [280000 180000 230000 130000]\n",
      " [140000 290000 240000 190000]\n",
      " [250000 200000 110000 300000]]\n"
     ]
    }
   ],
   "source": [
    "# Data Structure: [restaurant_id, 2021, 2022, 2023, 2024]\n",
    "sales_data = np.array([\n",
    "    [1, 260000, 160000, 210000, 150000], # Paradise Biryani\n",
    "    [2, 270000, 170000, 220000, 120000], # Beijing Bites\n",
    "    [3, 280000, 180000, 230000, 130000], # Pizza hub\n",
    "    [4, 140000, 290000, 240000, 190000], # Burger Point\n",
    "    [5, 250000, 200000, 110000, 300000], # Chai Point\n",
    "])\n",
    "\n",
    "print(\"=== Zomato sales analysis ===\")\n",
    "print(\"\\n Sales data shape\", sales_data.shape)\n",
    "print(\"\\n Sample data for 1st 3 restaurant \\n\", sales_data[0:3])\n",
    "print(\"\\n Remove the 1st column \\n\", sales_data[:, 1:])"
   ]
  },
  {
   "cell_type": "code",
   "execution_count": 46,
   "id": "037b3d32",
   "metadata": {},
   "outputs": [
    {
     "name": "stdout",
     "output_type": "stream",
     "text": [
      "Before numbering [     15 1200000 1000000 1010000  890000]\n",
      "After numbering [1200000 1000000 1010000  890000]\n",
      "MInimum sales  [150000 120000 130000 140000 110000]\n",
      "Maximum sales  [280000 290000 240000 300000]\n",
      "Average sales  [195000. 195000. 205000. 215000. 215000.]\n",
      "Cumulative sum  [[260000 420000 630000 780000]\n",
      " [270000 440000 660000 780000]\n",
      " [280000 460000 690000 820000]\n",
      " [140000 430000 670000 860000]\n",
      " [250000 450000 560000 860000]]\n"
     ]
    }
   ],
   "source": [
    "# total sales per year\n",
    "print(\"Before numbering\", np.sum(sales_data, axis=0))\n",
    "yearly_total = np.sum(sales_data[:, 1:], axis=0)\n",
    "print(\"After numbering\", yearly_total)\n",
    " \n",
    "# Minimum sales per year\n",
    "min_sales = np.min(sales_data[:, 1:], axis=1)\n",
    "print(\"MInimum sales \",min_sales)\n",
    "\n",
    "# Maximum sales per year\n",
    "max_sales = np.max(sales_data[:, 1:], axis=0)\n",
    "print(\"Maximum sales \", max_sales)\n",
    "\n",
    "# Average sales per restaurant\n",
    "avg_sales = np.mean(sales_data[:, 1:], axis=1)\n",
    "print(\"Average sales \", avg_sales)\n",
    "\n",
    "# Cumulative sales per year\n",
    "cumsum = np.cumsum(sales_data[:, 1:], axis=1)\n",
    "print(\"Cumulative sum \" ,cumsum)"
   ]
  },
  {
   "cell_type": "markdown",
   "id": "8cba478e",
   "metadata": {},
   "source": [
    "### vectorize()"
   ]
  },
  {
   "cell_type": "code",
   "execution_count": 40,
   "id": "b4d149f0",
   "metadata": {},
   "outputs": [
    {
     "name": "stdout",
     "output_type": "stream",
     "text": [
      "Vectorized Upper  ['CAFE' 'PIZZA' 'BUGER' 'CHINESE' 'VEG']\n"
     ]
    }
   ],
   "source": [
    "restaurant_types = np.array([\"cafe\", \"pizza\", \"buger\", \"chinese\", \"veg\"])\n",
    "vectorized_upper = np.vectorize(str.upper) #using vectorize(),you can perform any regular python operation in numpy array\n",
    "print(\"Vectorized Upper \", vectorized_upper(restaurant_types))"
   ]
  },
  {
   "cell_type": "code",
   "execution_count": 41,
   "id": "92cace52",
   "metadata": {},
   "outputs": [
    {
     "name": "stdout",
     "output_type": "stream",
     "text": [
      "[[21666.66666667 13333.33333333 17500.         12500.        ]\n",
      " [22500.         14166.66666667 18333.33333333 10000.        ]\n",
      " [23333.33333333 15000.         19166.66666667 10833.33333333]\n",
      " [11666.66666667 24166.66666667 20000.         15833.33333333]\n",
      " [20833.33333333 16666.66666667  9166.66666667 25000.        ]]\n"
     ]
    }
   ],
   "source": [
    "monthly_avg = sales_data[:, 1:] /12\n",
    "print(monthly_avg)"
   ]
  }
 ],
 "metadata": {
  "kernelspec": {
   "display_name": "venv",
   "language": "python",
   "name": "python3"
  },
  "language_info": {
   "codemirror_mode": {
    "name": "ipython",
    "version": 3
   },
   "file_extension": ".py",
   "mimetype": "text/x-python",
   "name": "python",
   "nbconvert_exporter": "python",
   "pygments_lexer": "ipython3",
   "version": "3.12.1"
  }
 },
 "nbformat": 4,
 "nbformat_minor": 5
}
