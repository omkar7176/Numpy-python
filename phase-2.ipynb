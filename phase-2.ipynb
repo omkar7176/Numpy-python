{
 "cells": [
  {
   "cell_type": "markdown",
   "id": "a5f795a3",
   "metadata": {},
   "source": [
    "## Numpy Array Operations"
   ]
  },
  {
   "cell_type": "code",
   "execution_count": 1,
   "id": "c25bd467",
   "metadata": {},
   "outputs": [],
   "source": [
    "import numpy as np"
   ]
  },
  {
   "cell_type": "code",
   "execution_count": 6,
   "id": "4a5eecac",
   "metadata": {},
   "outputs": [
    {
     "name": "stdout",
     "output_type": "stream",
     "text": [
      "Basic slicing [3 4 5 6 7]\n",
      "With step [2 4 6 8]\n",
      "Negative indexing 8\n"
     ]
    }
   ],
   "source": [
    "arr = np.array([1,2,3,4,5,6,7,8,9,10])\n",
    "print(\"Basic slicing\", arr[2:7])\n",
    "print(\"With step\", arr[1:9:2])\n",
    "print(\"Negative indexing\", arr[-3])"
   ]
  },
  {
   "cell_type": "code",
   "execution_count": 12,
   "id": "b7fd4e45",
   "metadata": {},
   "outputs": [
    {
     "name": "stdout",
     "output_type": "stream",
     "text": [
      "Specific element 6\n",
      "Entire Row [4 5 6]\n",
      "Entire Column [2 5 8]\n"
     ]
    }
   ],
   "source": [
    "arr_2d = np.array([[1,2,3],\n",
    "                   [4,5,6],\n",
    "                   [7,8,9]])\n",
    "print(\"Specific element\", arr_2d[1,2])\n",
    "print(\"Entire Row\", arr_2d[1])\n",
    "print(\"Entire Column\", arr_2d[:,1])"
   ]
  },
  {
   "cell_type": "markdown",
   "id": "d10f78fa",
   "metadata": {},
   "source": [
    "# Sorting"
   ]
  },
  {
   "cell_type": "code",
   "execution_count": 23,
   "id": "0215bfaa",
   "metadata": {},
   "outputs": [
    {
     "name": "stdout",
     "output_type": "stream",
     "text": [
      "Sorted Array: [0 1 2 3 4 5 6 7 8 9]\n",
      "Sorted 2D array by column: \n",
      " [[2 1]\n",
      " [3 1]\n",
      " [4 1]]\n",
      "\n",
      " Sorted 2D array by row: \n",
      " [[1 3]\n",
      " [1 2]\n",
      " [1 4]]\n"
     ]
    }
   ],
   "source": [
    "unsorted = np.array([1,8,4,7,3,9,2,0,5,6])\n",
    "print(\"Sorted Array:\", np.sort(unsorted))\n",
    "\n",
    "arr_2d_unsorted = np.array([[3, 1], [2, 1], [4, 1]])\n",
    "print(\"Sorted 2D array by column: \\n\", np.sort(arr_2d_unsorted, axis=0)) #top to bottom sort using axis=0\n",
    "\n",
    "\n",
    "print(\"\\n Sorted 2D array by row: \\n\", np.sort(arr_2d_unsorted, axis=1)) #left to righht sort using axis=1"
   ]
  },
  {
   "cell_type": "markdown",
   "id": "8d6ef9e0",
   "metadata": {},
   "source": [
    "# Filter"
   ]
  },
  {
   "cell_type": "code",
   "execution_count": 26,
   "id": "12377fee",
   "metadata": {},
   "outputs": [
    {
     "name": "stdout",
     "output_type": "stream",
     "text": [
      "Even numbers:  [ 2  4  6  8 10]\n"
     ]
    }
   ],
   "source": [
    "numbers = np.array([1,2,3,4,5,6,7,8,9,10])\n",
    "even_number = numbers[numbers % 2 == 0] #numpy functionality, you can use the expression 1:01:20\n",
    "print(\"Even numbers: \", even_number)"
   ]
  },
  {
   "cell_type": "markdown",
   "id": "e2514805",
   "metadata": {},
   "source": [
    "## Filter with mask"
   ]
  },
  {
   "cell_type": "code",
   "execution_count": 27,
   "id": "b12a67ed",
   "metadata": {},
   "outputs": [
    {
     "name": "stdout",
     "output_type": "stream",
     "text": [
      "Numbers grater than 5 [ 6  7  8  9 10]\n"
     ]
    }
   ],
   "source": [
    "mask = numbers > 5\n",
    "print(\"Numbers grater than 5\", numbers[mask])"
   ]
  },
  {
   "cell_type": "markdown",
   "id": "95d21bd0",
   "metadata": {},
   "source": [
    "## Fancy indexing vs np.where()"
   ]
  },
  {
   "cell_type": "code",
   "execution_count": 29,
   "id": "dc64a891",
   "metadata": {},
   "outputs": [
    {
     "name": "stdout",
     "output_type": "stream",
     "text": [
      "[1 3 5]\n",
      "(array([5, 6, 7, 8, 9]),)\n",
      "NP where [ 6  7  8  9 10]\n"
     ]
    }
   ],
   "source": [
    "indices = [0, 2, 4]\n",
    "print(numbers[indices])\n",
    "\n",
    "where_result = np.where(numbers > 5)\n",
    "print(where_result)\n",
    "print(\"NP where\", numbers[where_result])"
   ]
  },
  {
   "cell_type": "code",
   "execution_count": 32,
   "id": "ea4f4760",
   "metadata": {},
   "outputs": [
    {
     "name": "stdout",
     "output_type": "stream",
     "text": [
      "['False' 'False' 'False' 'False' 'False' 'True' 'True' 'True' 'True'\n",
      " 'True']\n"
     ]
    }
   ],
   "source": [
    "condition_array = np.where(numbers > 5, \"True\", \"False\")\n",
    "print(condition_array)"
   ]
  },
  {
   "cell_type": "markdown",
   "id": "0d9b59e6",
   "metadata": {},
   "source": [
    "### Adding and Removing data"
   ]
  },
  {
   "cell_type": "code",
   "execution_count": 37,
   "id": "5641de75",
   "metadata": {},
   "outputs": [
    {
     "name": "stdout",
     "output_type": "stream",
     "text": [
      "Concatenate array:  [1 2 3 4 5 6]\n"
     ]
    }
   ],
   "source": [
    "# Merging the array\n",
    "arr1 = np.array([1,2,3])\n",
    "arr2 = np.array([4,5,6])\n",
    "\n",
    "combined = np.concatenate((arr1, arr2))\n",
    "print(\"Concatenate array: \", combined)"
   ]
  },
  {
   "cell_type": "markdown",
   "id": "7f31ccd8",
   "metadata": {},
   "source": [
    "### Array compatibility"
   ]
  },
  {
   "cell_type": "code",
   "execution_count": 41,
   "id": "f68c3722",
   "metadata": {},
   "outputs": [
    {
     "name": "stdout",
     "output_type": "stream",
     "text": [
      "Compatibility shapes True\n",
      "Compatibility shapes False\n"
     ]
    }
   ],
   "source": [
    "a = np.array([1, 2, 3])\n",
    "b = np.array([4, 5, 6])\n",
    "c = np.array([7, 8, 9, 10])\n",
    "\n",
    "print(\"Compatibility shapes\", a.shape == b.shape)\n",
    "print(\"Compatibility shapes\", b.shape == c.shape)"
   ]
  },
  {
   "cell_type": "code",
   "execution_count": 52,
   "id": "27a45685",
   "metadata": {},
   "outputs": [
    {
     "name": "stdout",
     "output_type": "stream",
     "text": [
      "[[1 2]\n",
      " [3 4]]\n",
      "[[1 2]\n",
      " [3 4]\n",
      " [5 6]]\n",
      "---------------------------------------\n",
      "With new col: \n",
      " [[1 2 5]\n",
      " [3 4 8]]\n"
     ]
    }
   ],
   "source": [
    "original = np.array([[1, 2], [3, 4]])\n",
    "new_row = np.array([[5, 6]])\n",
    "\n",
    "with_new_row = np.vstack((original, new_row)) #vstack(vertical stack) always add the new row.\n",
    "print(original)\n",
    "print(with_new_row)\n",
    "\n",
    "print(\"---------------------------------------\")\n",
    "\n",
    "new_col = np.array([[5], [8]])\n",
    "with_new_col = np.hstack((original, new_col)) #hstack(horizontal stack) always add the new column.\n",
    "print(\"With new col: \\n\", with_new_col)"
   ]
  },
  {
   "cell_type": "markdown",
   "id": "bb61451e",
   "metadata": {},
   "source": [
    "### Deletion of Array using index"
   ]
  },
  {
   "cell_type": "code",
   "execution_count": 56,
   "id": "53e1481b",
   "metadata": {},
   "outputs": [
    {
     "name": "stdout",
     "output_type": "stream",
     "text": [
      "Array after deletion:  [1 2 4 5 6 7]\n"
     ]
    }
   ],
   "source": [
    "arr = np.array([1,2,3,4,5,6,7])\n",
    "deleted = np.delete(arr, 2)\n",
    "print(\"Array after deletion: \", deleted)"
   ]
  }
 ],
 "metadata": {
  "kernelspec": {
   "display_name": "venv",
   "language": "python",
   "name": "python3"
  },
  "language_info": {
   "codemirror_mode": {
    "name": "ipython",
    "version": 3
   },
   "file_extension": ".py",
   "mimetype": "text/x-python",
   "name": "python",
   "nbconvert_exporter": "python",
   "pygments_lexer": "ipython3",
   "version": "3.12.1"
  }
 },
 "nbformat": 4,
 "nbformat_minor": 5
}
